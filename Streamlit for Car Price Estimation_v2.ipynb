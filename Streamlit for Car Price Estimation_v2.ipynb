{
 "cells": [
  {
   "cell_type": "markdown",
   "id": "7b2328e2",
   "metadata": {},
   "source": [
    "# Streamlit for Car Price Estimation"
   ]
  },
  {
   "cell_type": "code",
   "execution_count": 1,
   "id": "46d95508",
   "metadata": {},
   "outputs": [
    {
     "name": "stdout",
     "output_type": "stream",
     "text": [
      "Overwriting Streamlit_app.py\n"
     ]
    }
   ],
   "source": [
    "%%writefile Streamlit_app.py\n",
    "import streamlit as st\n",
    "import pandas as pd\n",
    "import joblib\n",
    "\n",
    "\n",
    "#importing images \n",
    "st.image(\"Car4.gif\")    \n",
    "\n",
    "# Load the saved model\n",
    "loaded_model = joblib.load('Final_DT_Regression_Model.joblib')\n",
    "\n",
    "# Streamlit title\n",
    "st.title(\"Car Price Estimation Model\")\n",
    "\n",
    "st.sidebar.header(\"Select Features\")\n",
    "\n",
    "# User input\n",
    "Present_Price = st.slider(\"Present Price\", 0, 24, 12)\n",
    "Kms_Driven = st.slider(\"Kms Driven\", 500, 500000, 50000)\n",
    "Fuel_Type = st.sidebar.selectbox(\"Fuel Type\", options=['Petrol', 'Diesel', 'CNG'])\n",
    "Seller_Type = st.sidebar.selectbox(\"Seller Type\", options=['Dealer', 'Individual'])\n",
    "Transmission = st.sidebar.selectbox(\"Transmission\", options=['Manual', 'Automatic'])\n",
    "Owner = st.slider(\"Owner\", 0, 3, 1)\n",
    "Year = st.slider(\"Year\", 2003, 2018, 2010)\n",
    "Vehicle_Age = 2024-Year\n",
    "\n",
    "# Create a DataFrame from the user input\n",
    "new_data = pd.DataFrame({\n",
    "    'Present_Price': [Present_Price],\n",
    "    'Kms_Driven': [Kms_Driven],\n",
    "    'Fuel_Type': [Fuel_Type],\n",
    "    'Seller_Type': [Seller_Type],\n",
    "    'Transmission': [Transmission],\n",
    "    'Owner': [Owner],\n",
    "    'Vehicle_Age': [Vehicle_Age]\n",
    "     })\n",
    "\n",
    "\n",
    "# Make a prediction\n",
    "if st.button(\"Make Prediction\"):\n",
    "    prediction = loaded_model.predict(new_data)\n",
    "  \n",
    "    # Display the results\n",
    "    st.write(f\"Predicted Price: ${prediction[0]} K\")"
   ]
  },
  {
   "cell_type": "code",
   "execution_count": null,
   "id": "12581b64",
   "metadata": {},
   "outputs": [],
   "source": [
    "!streamlit run Streamlit_app.py"
   ]
  },
  {
   "cell_type": "code",
   "execution_count": null,
   "id": "8434c6f2",
   "metadata": {},
   "outputs": [],
   "source": []
  },
  {
   "cell_type": "code",
   "execution_count": null,
   "id": "c8ec97a3",
   "metadata": {},
   "outputs": [],
   "source": []
  }
 ],
 "metadata": {
  "kernelspec": {
   "display_name": "Python 3 (ipykernel)",
   "language": "python",
   "name": "python3"
  },
  "language_info": {
   "codemirror_mode": {
    "name": "ipython",
    "version": 3
   },
   "file_extension": ".py",
   "mimetype": "text/x-python",
   "name": "python",
   "nbconvert_exporter": "python",
   "pygments_lexer": "ipython3",
   "version": "3.10.9"
  },
  "toc": {
   "base_numbering": 1,
   "nav_menu": {},
   "number_sections": true,
   "sideBar": true,
   "skip_h1_title": false,
   "title_cell": "Table of Contents",
   "title_sidebar": "Contents",
   "toc_cell": false,
   "toc_position": {},
   "toc_section_display": true,
   "toc_window_display": false
  }
 },
 "nbformat": 4,
 "nbformat_minor": 5
}
